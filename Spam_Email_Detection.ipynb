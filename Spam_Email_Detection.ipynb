{
 "cells": [
  {
   "cell_type": "markdown",
   "id": "bff55403",
   "metadata": {},
   "source": [
    "# Spam Email Detection with Scikit-learn\n",
    "\n",
    "This notebook implements a machine learning model to classify emails as spam or not spam (ham) using Scikit-learn. We'll use a Naive Bayes classifier with text data, preprocess the text using TF-IDF, and evaluate the model's performance.\n",
    "\n",
    "### Objectives\n",
    "- Load and preprocess a sample email dataset\n",
    "- Build a predictive model using Multinomial Naive Bayes\n",
    "- Evaluate the model with accuracy, precision, recall, and a confusion matrix"
   ]
  },
  {
   "cell_type": "code",
   "execution_count": 1,
   "id": "38ed570c",
   "metadata": {},
   "outputs": [],
   "source": [
    "# Import necessary libraries\n",
    "import pandas as pd\n",
    "import numpy as np\n",
    "from sklearn.model_selection import train_test_split\n",
    "from sklearn.feature_extraction.text import TfidfVectorizer\n",
    "from sklearn.naive_bayes import MultinomialNB\n",
    "from sklearn.metrics import accuracy_score, classification_report, confusion_matrix\n",
    "import matplotlib.pyplot as plt\n",
    "import seaborn as sns\n",
    "\n",
    "# Set random seed for reproducibility\n",
    "np.random.seed(42)"
   ]
  },
  {
   "cell_type": "markdown",
   "id": "5f7da2fb",
   "metadata": {},
   "source": [
    "## Step 1: Create a Sample Dataset\n",
    "\n",
    "For demonstration, we'll create a small synthetic dataset of emails with labels (spam or ham). In a real scenario, you'd use a dataset like the Enron email corpus or the SpamAssassin dataset."
   ]
  },
  {
   "cell_type": "code",
   "execution_count": 2,
   "id": "f2e5fbd7",
   "metadata": {},
   "outputs": [
    {
     "name": "stdout",
     "output_type": "stream",
     "text": [
      "Sample Dataset:\n",
      "                             email label\n",
      "0  win a free prize now click here  spam\n",
      "1         meeting at 10am tomorrow   ham\n",
      "2     urgent money transfer needed  spam\n",
      "3          hello how are you today   ham\n",
      "4      claim your lottery winnings  spam\n",
      "5          project update for team   ham\n",
      "6    buy cheap products online now  spam\n",
      "7       lunch plans this afternoon   ham\n",
      "8     exclusive offer just for you  spam\n",
      "9     review the attached document   ham\n"
     ]
    }
   ],
   "source": [
    "# Create a synthetic dataset\n",
    "data = {\n",
    "    'email': [\n",
    "        'win a free prize now click here', \n",
    "        'meeting at 10am tomorrow', \n",
    "        'urgent money transfer needed', \n",
    "        'hello how are you today', \n",
    "        'claim your lottery winnings', \n",
    "        'project update for team', \n",
    "        'buy cheap products online now', \n",
    "        'lunch plans this afternoon',\n",
    "        'exclusive offer just for you',\n",
    "        'review the attached document'\n",
    "    ],\n",
    "    'label': ['spam', 'ham', 'spam', 'ham', 'spam', 'ham', 'spam', 'ham', 'spam', 'ham']\n",
    "}\n",
    "\n",
    "# Convert to DataFrame\n",
    "df = pd.DataFrame(data)\n",
    "\n",
    "# Display the dataset\n",
    "print(\"Sample Dataset:\")\n",
    "print(df)\n",
    "\n",
    "# Save to CSV (optional)\n",
    "df.to_csv('spam_email_data.csv', index=False)"
   ]
  },
  {
   "cell_type": "markdown",
   "id": "956f7d93",
   "metadata": {},
   "source": [
    "## Step 2: Data Preprocessing\n",
    "\n",
    "We'll convert the text data into numerical features using TF-IDF (Term Frequency-Inverse Document Frequency), which is effective for text classification."
   ]
  },
  {
   "cell_type": "code",
   "execution_count": 3,
   "id": "b0141312",
   "metadata": {},
   "outputs": [
    {
     "name": "stdout",
     "output_type": "stream",
     "text": [
      "Training data shape: (7, 23)\n",
      "Testing data shape: (3, 23)\n"
     ]
    }
   ],
   "source": [
    "# Features and labels\n",
    "X = df['email']\n",
    "y = df['label']\n",
    "\n",
    "# Split the data into training and testing sets\n",
    "X_train, X_test, y_train, y_test = train_test_split(X, y, test_size=0.3, random_state=42)\n",
    "\n",
    "# Initialize TF-IDF Vectorizer\n",
    "tfidf = TfidfVectorizer(stop_words='english', max_features=100)\n",
    "\n",
    "# Fit and transform the training data, transform the test data\n",
    "X_train_tfidf = tfidf.fit_transform(X_train)\n",
    "X_test_tfidf = tfidf.transform(X_test)\n",
    "\n",
    "# Display shapes\n",
    "print(f\"Training data shape: {X_train_tfidf.shape}\")\n",
    "print(f\"Testing data shape: {X_test_tfidf.shape}\")"
   ]
  },
  {
   "cell_type": "markdown",
   "id": "97b4793d",
   "metadata": {},
   "source": [
    "## Step 3: Train the Model\n",
    "\n",
    "We'll use a Multinomial Naive Bayes classifier, which is well-suited for text classification tasks with discrete features like word counts or TF-IDF scores."
   ]
  },
  {
   "cell_type": "code",
   "execution_count": 4,
   "id": "3e3d99cc",
   "metadata": {},
   "outputs": [
    {
     "name": "stdout",
     "output_type": "stream",
     "text": [
      "Predictions on test set: ['spam' 'spam' 'spam']\n"
     ]
    }
   ],
   "source": [
    "# Initialize the model\n",
    "model = MultinomialNB()\n",
    "\n",
    "# Train the model\n",
    "model.fit(X_train_tfidf, y_train)\n",
    "\n",
    "# Make predictions\n",
    "y_pred = model.predict(X_test_tfidf)\n",
    "\n",
    "# Display predictions\n",
    "print(\"Predictions on test set:\", y_pred)"
   ]
  },
  {
   "cell_type": "markdown",
   "id": "409b74cf",
   "metadata": {},
   "source": [
    "## Step 4: Evaluate the Model\n",
    "\n",
    "We'll assess the model's performance using accuracy, a classification report (precision, recall, F1-score), and a confusion matrix."
   ]
  },
  {
   "cell_type": "code",
   "execution_count": 5,
   "id": "87059c8b",
   "metadata": {},
   "outputs": [
    {
     "name": "stdout",
     "output_type": "stream",
     "text": [
      "Accuracy: 0.33\n",
      "\n",
      "Classification Report:\n",
      "              precision    recall  f1-score   support\n",
      "\n",
      "         ham       0.00      0.00      0.00         2\n",
      "        spam       0.33      1.00      0.50         1\n",
      "\n",
      "    accuracy                           0.33         3\n",
      "   macro avg       0.17      0.50      0.25         3\n",
      "weighted avg       0.11      0.33      0.17         3\n",
      "\n"
     ]
    },
    {
     "name": "stderr",
     "output_type": "stream",
     "text": [
      "C:\\Users\\91878\\AppData\\Local\\Programs\\Python\\Python311\\Lib\\site-packages\\sklearn\\metrics\\_classification.py:1565: UndefinedMetricWarning: Precision is ill-defined and being set to 0.0 in labels with no predicted samples. Use `zero_division` parameter to control this behavior.\n",
      "  _warn_prf(average, modifier, f\"{metric.capitalize()} is\", len(result))\n",
      "C:\\Users\\91878\\AppData\\Local\\Programs\\Python\\Python311\\Lib\\site-packages\\sklearn\\metrics\\_classification.py:1565: UndefinedMetricWarning: Precision is ill-defined and being set to 0.0 in labels with no predicted samples. Use `zero_division` parameter to control this behavior.\n",
      "  _warn_prf(average, modifier, f\"{metric.capitalize()} is\", len(result))\n",
      "C:\\Users\\91878\\AppData\\Local\\Programs\\Python\\Python311\\Lib\\site-packages\\sklearn\\metrics\\_classification.py:1565: UndefinedMetricWarning: Precision is ill-defined and being set to 0.0 in labels with no predicted samples. Use `zero_division` parameter to control this behavior.\n",
      "  _warn_prf(average, modifier, f\"{metric.capitalize()} is\", len(result))\n"
     ]
    },
    {
     "data": {
      "image/png": "[encoded data removed]",
      "text/plain": [
       "<Figure size 600x400 with 2 Axes>"
      ]
     },
     "metadata": {},
     "output_type": "display_data"
    }
   ],
   "source": [
    "# Calculate accuracy\n",
    "accuracy = accuracy_score(y_test, y_pred)\n",
    "print(f\"Accuracy: {accuracy:.2f}\")\n",
    "\n",
    "# Detailed classification report\n",
    "print(\"\\nClassification Report:\")\n",
    "print(classification_report(y_test, y_pred, target_names=['ham', 'spam']))\n",
    "\n",
    "# Confusion matrix\n",
    "cm = confusion_matrix(y_test, y_pred)\n",
    "plt.figure(figsize=(6, 4))\n",
    "sns.heatmap(cm, annot=True, fmt='d', cmap='Blues', xticklabels=['ham', 'spam'], yticklabels=['ham', 'spam'])\n",
    "plt.title('Confusion Matrix')\n",
    "plt.xlabel('Predicted')\n",
    "plt.ylabel('Actual')\n",
    "plt.show()"
   ]
  },
  {
   "cell_type": "markdown",
   "id": "e6272c2a",
   "metadata": {},
   "source": [
    "## Step 5: Test the Model with New Emails\n",
    "\n",
    "Let’s test the model with some new email examples to see how it performs."
   ]
  },
  {
   "cell_type": "code",
   "execution_count": 6,
   "id": "1d56695c",
   "metadata": {},
   "outputs": [
    {
     "name": "stdout",
     "output_type": "stream",
     "text": [
      "Email: 'win cash now click this link' -> Predicted: spam\n",
      "Email: 'team meeting at 3pm' -> Predicted: spam\n",
      "Email: 'urgent offer expires soon' -> Predicted: spam\n"
     ]
    }
   ],
   "source": [
    "# New email examples\n",
    "new_emails = [\n",
    "    'win cash now click this link',\n",
    "    'team meeting at 3pm',\n",
    "    'urgent offer expires soon'\n",
    "]\n",
    "\n",
    "# Transform new emails using the same TF-IDF vectorizer\n",
    "new_emails_tfidf = tfidf.transform(new_emails)\n",
    "\n",
    "# Predict\n",
    "new_predictions = model.predict(new_emails_tfidf)\n",
    "\n",
    "# Display results\n",
    "for email, pred in zip(new_emails, new_predictions):\n",
    "    print(f\"Email: '{email}' -> Predicted: {pred}\")"
   ]
  },
  {
   "cell_type": "markdown",
   "id": "76d28263",
   "metadata": {},
   "source": [
    "## Conclusion\n",
    "\n",
    "This notebook demonstrates a basic spam email detection model using Scikit-learn:\n",
    "- **Accuracy**: Depends on the split, but typically high for this small dataset.\n",
    "- **Strengths**: Simple, effective for text classification.\n",
    "- **Limitations**: Small dataset; real-world performance would improve with more data and advanced preprocessing (e.g., stemming, lemmatization).\n",
    "\n",
    "To enhance this model:\n",
    "- Use a larger dataset (e.g., UCI SMS Spam Collection).\n",
    "- Add text preprocessing (e.g., NLTK for tokenization).\n",
    "- Try other algorithms (e.g., SVM, Random Forest)."
   ]
  },
  {
   "cell_type": "code",
   "execution_count": null,
   "id": "19996bb0",
   "metadata": {},
   "outputs": [],
   "source": []
  }
 ],
 "metadata": {
  "kernelspec": {
   "display_name": "Python 3 (ipykernel)",
   "language": "python",
   "name": "python3"
  },
  "language_info": {
   "codemirror_mode": {
    "name": "ipython",
    "version": 3
   },
   "file_extension": ".py",
   "mimetype": "text/x-python",
   "name": "python",
   "nbconvert_exporter": "python",
   "pygments_lexer": "ipython3",
   "version": "3.11.4"
  }
 },
 "nbformat": 4,
 "nbformat_minor": 5
}
